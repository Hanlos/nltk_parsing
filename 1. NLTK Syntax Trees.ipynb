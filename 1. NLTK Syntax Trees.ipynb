{
 "metadata": {
  "name": "",
  "signature": "sha256:d56181ec755bc6cace1df74814222d45e05bdbf17c63e5136b30d1d9cfaa5755"
 },
 "nbformat": 3,
 "nbformat_minor": 0,
 "worksheets": [
  {
   "cells": [
    {
     "cell_type": "heading",
     "level": 1,
     "metadata": {},
     "source": [
      "1. NLTK Syntax Trees"
     ]
    },
    {
     "cell_type": "markdown",
     "metadata": {},
     "source": [
      "In this notebook, I'll play with NLTK syntax trees. Actually, they are general trees, and they allow an interesting set of operations. The complete reference can be found [here](nltk.googlecode.com/svn/trunk/doc/api/nltk.tree.Tree)"
     ]
    },
    {
     "cell_type": "markdown",
     "metadata": {},
     "source": [
      "Each Tree represents a single hierarchical grouping of leaves and subtrees. For example, each constituent in a syntax tree is represented by a single Tree. Let's load into nltk some trees, from the  WSJ corpus."
     ]
    },
    {
     "cell_type": "code",
     "collapsed": false,
     "input": [
      "import nltk\n",
      "from nltk.corpus import treebank\n",
      "t = treebank.parsed_sents('wsj_0001.mrg')[0]\n",
      "print t"
     ],
     "language": "python",
     "metadata": {},
     "outputs": [
      {
       "output_type": "stream",
       "stream": "stdout",
       "text": [
        "(S\n",
        "  (NP-SBJ\n",
        "    (NP (NNP Pierre) (NNP Vinken))\n",
        "    (, ,)\n",
        "    (ADJP (NP (CD 61) (NNS years)) (JJ old))\n",
        "    (, ,))\n",
        "  (VP\n",
        "    (MD will)\n",
        "    (VP\n",
        "      (VB join)\n",
        "      (NP (DT the) (NN board))\n",
        "      (PP-CLR (IN as) (NP (DT a) (JJ nonexecutive) (NN director)))\n",
        "      (NP-TMP (NNP Nov.) (CD 29))))\n",
        "  (. .))\n"
       ]
      }
     ],
     "prompt_number": 1
    },
    {
     "cell_type": "markdown",
     "metadata": {},
     "source": [
      "A tree's children are encoded as a *list* of leaves and subtrees, where a leaf is a basic (non-tree) value; and a subtree is a nested Tree. For syntax trees, the _node_ property of the list holds the phrase tag of the constituent, and words are at the tree's leaves."
     ]
    },
    {
     "cell_type": "code",
     "collapsed": false,
     "input": [
      "print t.label()"
     ],
     "language": "python",
     "metadata": {},
     "outputs": [
      {
       "output_type": "stream",
       "stream": "stdout",
       "text": [
        "S\n"
       ]
      }
     ],
     "prompt_number": 2
    },
    {
     "cell_type": "markdown",
     "metadata": {},
     "source": [
      "Trees are lists, and the list elements are the children of the root node. They can be Trees o basic values (leafs). Let's show the first child:"
     ]
    },
    {
     "cell_type": "code",
     "collapsed": false,
     "input": [
      "print t[0]"
     ],
     "language": "python",
     "metadata": {},
     "outputs": [
      {
       "output_type": "stream",
       "stream": "stdout",
       "text": [
        "(NP-SBJ\n",
        "  (NP (NNP Pierre) (NNP Vinken))\n",
        "  (, ,)\n",
        "  (ADJP (NP (CD 61) (NNS years)) (JJ old))\n",
        "  (, ,))\n"
       ]
      }
     ],
     "prompt_number": 3
    },
    {
     "cell_type": "markdown",
     "metadata": {},
     "source": [
      ".... and now the second and third"
     ]
    },
    {
     "cell_type": "code",
     "collapsed": false,
     "input": [
      "print t[1]"
     ],
     "language": "python",
     "metadata": {},
     "outputs": [
      {
       "output_type": "stream",
       "stream": "stdout",
       "text": [
        "(VP\n",
        "  (MD will)\n",
        "  (VP\n",
        "    (VB join)\n",
        "    (NP (DT the) (NN board))\n",
        "    (PP-CLR (IN as) (NP (DT a) (JJ nonexecutive) (NN director)))\n",
        "    (NP-TMP (NNP Nov.) (CD 29))))\n"
       ]
      }
     ],
     "prompt_number": 4
    },
    {
     "cell_type": "code",
     "collapsed": false,
     "input": [
      "print t[2]"
     ],
     "language": "python",
     "metadata": {},
     "outputs": [
      {
       "output_type": "stream",
       "stream": "stdout",
       "text": [
        "(. .)\n"
       ]
      }
     ],
     "prompt_number": 5
    },
    {
     "cell_type": "markdown",
     "metadata": {},
     "source": [
      "We can this way access arbitrarly deep nodes, just indexing lists:"
     ]
    },
    {
     "cell_type": "code",
     "collapsed": false,
     "input": [
      "print t[0][0]\n",
      "print t[0][0][1]\n",
      "print t[0][0][1][0]"
     ],
     "language": "python",
     "metadata": {},
     "outputs": [
      {
       "output_type": "stream",
       "stream": "stdout",
       "text": [
        "(NP (NNP Pierre) (NNP Vinken))\n",
        "(NNP Vinken)\n",
        "Vinken\n"
       ]
      }
     ],
     "prompt_number": 6
    },
    {
     "cell_type": "markdown",
     "metadata": {},
     "source": [
      "From the NLTK book: Several Tree methods use tree positions to specify children or descendants of a tree. Tree positions are defined as follows:\n",
      "\n",
      "- The tree position $i$ specifies a $Tree$'s $i$th child.\n",
      "- The tree position $()$ specifies the $Tree$ itself.\n",
      "- If $p$ is the tree position of descendant $d$, then $p+(i)$ specifies the $i$th child of $d$.\n",
      "    \n",
      "I.e., every tree position is either a single index $i$, specifying $self[i]$; or a sequence ($i_1, i_2, \\ldots, i_N$), specifying $self[i_1][i_2]...[i_N]$."
     ]
    },
    {
     "cell_type": "code",
     "collapsed": false,
     "input": [
      "print t.treepositions(order='preorder')"
     ],
     "language": "python",
     "metadata": {},
     "outputs": [
      {
       "output_type": "stream",
       "stream": "stdout",
       "text": [
        "[(), (0,), (0, 0), (0, 0, 0), (0, 0, 0, 0), (0, 0, 1), (0, 0, 1, 0), (0, 1), (0, 1, 0), (0, 2), (0, 2, 0), (0, 2, 0, 0), (0, 2, 0, 0, 0), (0, 2, 0, 1), (0, 2, 0, 1, 0), (0, 2, 1), (0, 2, 1, 0), (0, 3), (0, 3, 0), (1,), (1, 0), (1, 0, 0), (1, 1), (1, 1, 0), (1, 1, 0, 0), (1, 1, 1), (1, 1, 1, 0), (1, 1, 1, 0, 0), (1, 1, 1, 1), (1, 1, 1, 1, 0), (1, 1, 2), (1, 1, 2, 0), (1, 1, 2, 0, 0), (1, 1, 2, 1), (1, 1, 2, 1, 0), (1, 1, 2, 1, 0, 0), (1, 1, 2, 1, 1), (1, 1, 2, 1, 1, 0), (1, 1, 2, 1, 2), (1, 1, 2, 1, 2, 0), (1, 1, 3), (1, 1, 3, 0), (1, 1, 3, 0, 0), (1, 1, 3, 1), (1, 1, 3, 1, 0), (2,), (2, 0)]\n"
       ]
      }
     ],
     "prompt_number": 7
    },
    {
     "cell_type": "markdown",
     "metadata": {},
     "source": [
      "Let's see some methods."
     ]
    },
    {
     "cell_type": "code",
     "collapsed": false,
     "input": [
      "print t.leaves()"
     ],
     "language": "python",
     "metadata": {},
     "outputs": [
      {
       "output_type": "stream",
       "stream": "stdout",
       "text": [
        "[u'Pierre', u'Vinken', u',', u'61', u'years', u'old', u',', u'will', u'join', u'the', u'board', u'as', u'a', u'nonexecutive', u'director', u'Nov.', u'29', u'.']\n"
       ]
      }
     ],
     "prompt_number": 8
    },
    {
     "cell_type": "code",
     "collapsed": false,
     "input": [
      "print t.flatten() # A tree with only the root and the leaves directly connected to it"
     ],
     "language": "python",
     "metadata": {},
     "outputs": [
      {
       "output_type": "stream",
       "stream": "stdout",
       "text": [
        "(S\n",
        "  Pierre\n",
        "  Vinken\n",
        "  ,\n",
        "  61\n",
        "  years\n",
        "  old\n",
        "  ,\n",
        "  will\n",
        "  join\n",
        "  the\n",
        "  board\n",
        "  as\n",
        "  a\n",
        "  nonexecutive\n",
        "  director\n",
        "  Nov.\n",
        "  29\n",
        "  .)\n"
       ]
      }
     ],
     "prompt_number": 9
    },
    {
     "cell_type": "markdown",
     "metadata": {},
     "source": [
      "We can generate all the tree's  subtrees;"
     ]
    },
    {
     "cell_type": "code",
     "collapsed": false,
     "input": [
      "for subtree in t.subtrees(): # Generate all subtrees\n",
      "    print subtree"
     ],
     "language": "python",
     "metadata": {},
     "outputs": [
      {
       "output_type": "stream",
       "stream": "stdout",
       "text": [
        "(S\n",
        "  (NP-SBJ\n",
        "    (NP (NNP Pierre) (NNP Vinken))\n",
        "    (, ,)\n",
        "    (ADJP (NP (CD 61) (NNS years)) (JJ old))\n",
        "    (, ,))\n",
        "  (VP\n",
        "    (MD will)\n",
        "    (VP\n",
        "      (VB join)\n",
        "      (NP (DT the) (NN board))\n",
        "      (PP-CLR (IN as) (NP (DT a) (JJ nonexecutive) (NN director)))\n",
        "      (NP-TMP (NNP Nov.) (CD 29))))\n",
        "  (. .))\n",
        "(NP-SBJ\n",
        "  (NP (NNP Pierre) (NNP Vinken))\n",
        "  (, ,)\n",
        "  (ADJP (NP (CD 61) (NNS years)) (JJ old))\n",
        "  (, ,))\n",
        "(NP (NNP Pierre) (NNP Vinken))\n",
        "(NNP Pierre)\n",
        "(NNP Vinken)\n",
        "(, ,)\n",
        "(ADJP (NP (CD 61) (NNS years)) (JJ old))\n",
        "(NP (CD 61) (NNS years))\n",
        "(CD 61)\n",
        "(NNS years)\n",
        "(JJ old)\n",
        "(, ,)\n",
        "(VP\n",
        "  (MD will)\n",
        "  (VP\n",
        "    (VB join)\n",
        "    (NP (DT the) (NN board))\n",
        "    (PP-CLR (IN as) (NP (DT a) (JJ nonexecutive) (NN director)))\n",
        "    (NP-TMP (NNP Nov.) (CD 29))))\n",
        "(MD will)\n",
        "(VP\n",
        "  (VB join)\n",
        "  (NP (DT the) (NN board))\n",
        "  (PP-CLR (IN as) (NP (DT a) (JJ nonexecutive) (NN director)))\n",
        "  (NP-TMP (NNP Nov.) (CD 29)))\n",
        "(VB join)\n",
        "(NP (DT the) (NN board))\n",
        "(DT the)\n",
        "(NN board)\n",
        "(PP-CLR (IN as) (NP (DT a) (JJ nonexecutive) (NN director)))\n",
        "(IN as)\n",
        "(NP (DT a) (JJ nonexecutive) (NN director))\n",
        "(DT a)\n",
        "(JJ nonexecutive)\n",
        "(NN director)\n",
        "(NP-TMP (NNP Nov.) (CD 29))\n",
        "(NNP Nov.)\n",
        "(CD 29)\n",
        "(. .)\n"
       ]
      }
     ],
     "prompt_number": 10
    },
    {
     "cell_type": "markdown",
     "metadata": {},
     "source": [
      "And (this is awesome!) we can filter according to certain criteria. For example, let's filter NP constituents"
     ]
    },
    {
     "cell_type": "code",
     "collapsed": false,
     "input": [
      "def filt(x):\n",
      "    return x.label()=='NP'\n",
      "\n",
      "for subtree in t.subtrees(filter =  filt): # Generate all subtrees\n",
      "    print subtree"
     ],
     "language": "python",
     "metadata": {},
     "outputs": [
      {
       "output_type": "stream",
       "stream": "stdout",
       "text": [
        "(NP (NNP Pierre) (NNP Vinken))\n",
        "(NP (CD 61) (NNS years))\n",
        "(NP (DT the) (NN board))\n",
        "(NP (DT a) (JJ nonexecutive) (NN director))\n"
       ]
      }
     ],
     "prompt_number": 11
    },
    {
     "cell_type": "markdown",
     "metadata": {},
     "source": [
      "Or just use a lambda function, to filter singular nouns:"
     ]
    },
    {
     "cell_type": "code",
     "collapsed": false,
     "input": [
      "for subtree in t.subtrees(filter = lambda st: st.label()=='NN'):\n",
      "    print subtree"
     ],
     "language": "python",
     "metadata": {},
     "outputs": [
      {
       "output_type": "stream",
       "stream": "stdout",
       "text": [
        "(NN board)\n",
        "(NN director)\n"
       ]
      }
     ],
     "prompt_number": 12
    },
    {
     "cell_type": "markdown",
     "metadata": {},
     "source": [
      "We can show POS (they are simply preterminals in the tree)"
     ]
    },
    {
     "cell_type": "code",
     "collapsed": false,
     "input": [
      "t.pos()"
     ],
     "language": "python",
     "metadata": {},
     "outputs": [
      {
       "metadata": {},
       "output_type": "pyout",
       "prompt_number": 13,
       "text": [
        "[(u'Pierre', u'NNP'),\n",
        " (u'Vinken', u'NNP'),\n",
        " (u',', u','),\n",
        " (u'61', u'CD'),\n",
        " (u'years', u'NNS'),\n",
        " (u'old', u'JJ'),\n",
        " (u',', u','),\n",
        " (u'will', u'MD'),\n",
        " (u'join', u'VB'),\n",
        " (u'the', u'DT'),\n",
        " (u'board', u'NN'),\n",
        " (u'as', u'IN'),\n",
        " (u'a', u'DT'),\n",
        " (u'nonexecutive', u'JJ'),\n",
        " (u'director', u'NN'),\n",
        " (u'Nov.', u'NNP'),\n",
        " (u'29', u'CD'),\n",
        " (u'.', u'.')]"
       ]
      }
     ],
     "prompt_number": 13
    },
    {
     "cell_type": "markdown",
     "metadata": {},
     "source": [
      "Before continuing, let's try to draw the tree. I will use two methods I have developed: pln_inco.syntax_trees.tree_to_dot to convert NLTK tree rep to a graphviz spec, and pln_inco.graphviz.generate to actually call dot and generate the image."
     ]
    },
    {
     "cell_type": "code",
     "collapsed": false,
     "input": [
      "import pln_inco.syntax_trees\n",
      "import pln_inco.graphviz as gv\n",
      "from IPython.display import Image\n",
      "from IPython.display import display\n",
      "from IPython.display import display_png"
     ],
     "language": "python",
     "metadata": {},
     "outputs": [],
     "prompt_number": 14
    },
    {
     "cell_type": "code",
     "collapsed": false,
     "input": [
      "tree_dot=pln_inco.syntax_trees.tree_to_dot(t)\n",
      "\n",
      "tree_png=Image(data=gv.generate(tree_dot,format='png'),width=1000)\n",
      "display_png(tree_png)"
     ],
     "language": "python",
     "metadata": {},
     "outputs": [
      {
       "metadata": {
        "png": {
         "width": 1000
        }
       },
       "output_type": "display_data",
       "png": "[encoded data removed]"
      }
     ],
     "prompt_number": 15
    },
    {
     "cell_type": "markdown",
     "metadata": {},
     "source": [
      "Let's look at treepositions again, since they are interesting. Let's find the tree position of \"board\", the 11th word (leave) in the sentence (tree)"
     ]
    },
    {
     "cell_type": "code",
     "collapsed": false,
     "input": [
      "print t.leaf_treeposition(10) #Note that leaves are numbered starting from 0!"
     ],
     "language": "python",
     "metadata": {},
     "outputs": [
      {
       "output_type": "stream",
       "stream": "stdout",
       "text": [
        "(1, 1, 1, 1, 0)\n"
       ]
      }
     ],
     "prompt_number": 16
    },
    {
     "cell_type": "markdown",
     "metadata": {},
     "source": [
      "We should read this treeposition as: _Start from the root, select the second child for times, and select the first child_. We will come back later with treepositions. \n",
      "\n",
      "There another, interesting, function: suppose we want to find the node the covers \"join the board as a nonexecutive director\". We can use:"
     ]
    },
    {
     "cell_type": "code",
     "collapsed": false,
     "input": [
      "print t.treeposition_spanning_leaves(8,14)"
     ],
     "language": "python",
     "metadata": {},
     "outputs": [
      {
       "output_type": "stream",
       "stream": "stdout",
       "text": [
        "(1, 1)\n"
       ]
      }
     ],
     "prompt_number": 17
    },
    {
     "cell_type": "markdown",
     "metadata": {},
     "source": [
      "That is the t[1][1] tree (observe that the included span is larger than ours, because our span did not matched a complete constituent). The definiion of the function says:  the tree position of the lowest descendant of this tree that dominates self.leaves()[start:end]."
     ]
    },
    {
     "cell_type": "code",
     "collapsed": false,
     "input": [
      "print t[1][1]"
     ],
     "language": "python",
     "metadata": {},
     "outputs": [
      {
       "output_type": "stream",
       "stream": "stdout",
       "text": [
        "(VP\n",
        "  (VB join)\n",
        "  (NP (DT the) (NN board))\n",
        "  (PP-CLR (IN as) (NP (DT a) (JJ nonexecutive) (NN director)))\n",
        "  (NP-TMP (NNP Nov.) (CD 29)))\n"
       ]
      }
     ],
     "prompt_number": 18
    },
    {
     "cell_type": "heading",
     "level": 1,
     "metadata": {},
     "source": [
      "References"
     ]
    },
    {
     "cell_type": "markdown",
     "metadata": {},
     "source": [
      "- [nltk.tree.Tree](http://nltk.googlecode.com/svn/trunk/doc/api/nltk.tree.Tree-class.html) reference\n",
      "- The NLTK  Book - 8   [Analyzing Sentence Structure](http://www.nltk.org/book/ch08.html)"
     ]
    }
   ],
   "metadata": {}
  }
 ]
}